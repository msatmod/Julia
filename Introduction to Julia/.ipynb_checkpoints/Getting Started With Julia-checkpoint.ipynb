{
 "cells": [
  {
   "cell_type": "markdown",
   "id": "5c9fe11f",
   "metadata": {},
   "source": [
    "# Getting Started with Julia\n",
    "\n",
    "\n"
   ]
  },
  {
   "cell_type": "markdown",
   "id": "e75f0dd1",
   "metadata": {},
   "source": [
    "# Print using println()"
   ]
  },
  {
   "cell_type": "code",
   "execution_count": 1,
   "id": "06139830",
   "metadata": {},
   "outputs": [
    {
     "name": "stdout",
     "output_type": "stream",
     "text": [
      "My name is Mega\n"
     ]
    }
   ],
   "source": [
    "println(\"My name is Mega\")"
   ]
  },
  {
   "cell_type": "markdown",
   "id": "72841c6f",
   "metadata": {},
   "source": [
    "# Assign Variables:\n",
    "Julia will figure out the type of the variables."
   ]
  },
  {
   "cell_type": "code",
   "execution_count": 2,
   "id": "0ca4f4c7",
   "metadata": {},
   "outputs": [
    {
     "data": {
      "text/plain": [
       "Int64"
      ]
     },
     "execution_count": 2,
     "metadata": {},
     "output_type": "execute_result"
    }
   ],
   "source": [
    "fig = 11\n",
    "typeof(fig)"
   ]
  },
  {
   "cell_type": "code",
   "execution_count": 3,
   "id": "65656a9b",
   "metadata": {},
   "outputs": [
    {
     "data": {
      "text/plain": [
       "Float64"
      ]
     },
     "execution_count": 3,
     "metadata": {},
     "output_type": "execute_result"
    }
   ],
   "source": [
    "rate = 6.898\n",
    "typeof(rate)"
   ]
  },
  {
   "cell_type": "code",
   "execution_count": 4,
   "id": "287ca908",
   "metadata": {},
   "outputs": [
    {
     "data": {
      "text/plain": [
       "String"
      ]
     },
     "execution_count": 4,
     "metadata": {},
     "output_type": "execute_result"
    }
   ],
   "source": [
    "😺 = \"smiley cat!\"\n",
    "typeof(😺)"
   ]
  },
  {
   "cell_type": "code",
   "execution_count": 5,
   "id": "51a9bb0a",
   "metadata": {},
   "outputs": [
    {
     "data": {
      "text/plain": [
       "-1"
      ]
     },
     "execution_count": 5,
     "metadata": {},
     "output_type": "execute_result"
    }
   ],
   "source": [
    "😂 = 0\n",
    "😠 = -1\n"
   ]
  },
  {
   "cell_type": "code",
   "execution_count": 6,
   "id": "a18fe6a8",
   "metadata": {},
   "outputs": [
    {
     "data": {
      "text/plain": [
       "1"
      ]
     },
     "execution_count": 6,
     "metadata": {},
     "output_type": "execute_result"
    }
   ],
   "source": [
    "😺 = 1"
   ]
  },
  {
   "cell_type": "code",
   "execution_count": 7,
   "id": "5ed3b75a",
   "metadata": {},
   "outputs": [
    {
     "data": {
      "text/plain": [
       "true"
      ]
     },
     "execution_count": 7,
     "metadata": {},
     "output_type": "execute_result"
    }
   ],
   "source": [
    "😺 + 😠 == 😂"
   ]
  },
  {
   "cell_type": "markdown",
   "id": "c303e167",
   "metadata": {},
   "source": [
    "# Comment "
   ]
  },
  {
   "cell_type": "code",
   "execution_count": 8,
   "id": "cb45ef07",
   "metadata": {},
   "outputs": [],
   "source": [
    "#this is a comment\n"
   ]
  },
  {
   "cell_type": "markdown",
   "id": "104d3806",
   "metadata": {},
   "source": [
    "# Syntax for basic maths"
   ]
  },
  {
   "cell_type": "code",
   "execution_count": 12,
   "id": "c9ecf656",
   "metadata": {},
   "outputs": [
    {
     "data": {
      "text/plain": [
       "10"
      ]
     },
     "execution_count": 12,
     "metadata": {},
     "output_type": "execute_result"
    }
   ],
   "source": [
    "num = 2 + 8"
   ]
  },
  {
   "cell_type": "code",
   "execution_count": 13,
   "id": "373f7f39",
   "metadata": {},
   "outputs": [
    {
     "data": {
      "text/plain": [
       "1"
      ]
     },
     "execution_count": 13,
     "metadata": {},
     "output_type": "execute_result"
    }
   ],
   "source": [
    "sub = 10 -9"
   ]
  },
  {
   "cell_type": "code",
   "execution_count": 14,
   "id": "7f4df645",
   "metadata": {},
   "outputs": [
    {
     "data": {
      "text/plain": [
       "196"
      ]
     },
     "execution_count": 14,
     "metadata": {},
     "output_type": "execute_result"
    }
   ],
   "source": [
    "mul = 98 * 2"
   ]
  },
  {
   "cell_type": "code",
   "execution_count": 15,
   "id": "ce9dbe54",
   "metadata": {},
   "outputs": [
    {
     "data": {
      "text/plain": [
       "6.0"
      ]
     },
     "execution_count": 15,
     "metadata": {},
     "output_type": "execute_result"
    }
   ],
   "source": [
    "div = 36/6"
   ]
  },
  {
   "cell_type": "code",
   "execution_count": 16,
   "id": "af307b27",
   "metadata": {},
   "outputs": [
    {
     "data": {
      "text/plain": [
       "4"
      ]
     },
     "execution_count": 16,
     "metadata": {},
     "output_type": "execute_result"
    }
   ],
   "source": [
    "power = 2^2"
   ]
  },
  {
   "cell_type": "code",
   "execution_count": 17,
   "id": "98cd1ee2",
   "metadata": {},
   "outputs": [
    {
     "data": {
      "text/plain": [
       "0"
      ]
     },
     "execution_count": 17,
     "metadata": {},
     "output_type": "execute_result"
    }
   ],
   "source": [
    "mod = 10 % 2"
   ]
  },
  {
   "cell_type": "markdown",
   "id": "2cb5d72a",
   "metadata": {},
   "source": [
    "# Exercices"
   ]
  },
  {
   "cell_type": "code",
   "execution_count": 9,
   "id": "8ad72a9e",
   "metadata": {},
   "outputs": [
    {
     "data": {
      "text/plain": [
       "365.0"
      ]
     },
     "execution_count": 9,
     "metadata": {},
     "output_type": "execute_result"
    }
   ],
   "source": [
    "days = 365\n",
    "days_float = convert(Float64,days)"
   ]
  },
  {
   "cell_type": "code",
   "execution_count": 10,
   "id": "7ab647f0",
   "metadata": {},
   "outputs": [],
   "source": [
    "@assert days == 365\n",
    "@assert days_float == 365.0"
   ]
  },
  {
   "cell_type": "code",
   "execution_count": null,
   "id": "f190783f",
   "metadata": {},
   "outputs": [],
   "source": []
  }
 ],
 "metadata": {
  "kernelspec": {
   "display_name": "Julia 1.6.2",
   "language": "julia",
   "name": "julia-1.6"
  },
  "language_info": {
   "file_extension": ".jl",
   "mimetype": "application/julia",
   "name": "julia",
   "version": "1.6.2"
  }
 },
 "nbformat": 4,
 "nbformat_minor": 5
}
