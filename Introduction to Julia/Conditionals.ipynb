{
 "cells": [
  {
   "cell_type": "markdown",
   "id": "5f3fb46a",
   "metadata": {},
   "source": [
    "# Conditionals\n",
    "\n",
    "with the if keyword\n",
    "\n",
    "In Julia, the syntax"
   ]
  },
  {
   "cell_type": "code",
   "execution_count": null,
   "id": "4da02528",
   "metadata": {},
   "outputs": [],
   "source": [
    "if *condition 1*\n",
    "    *option 1*\n",
    "elseif *condition 2*\n",
    "    *option 2*\n",
    "else\n",
    "    *option 3*\n",
    "end"
   ]
  },
  {
   "cell_type": "markdown",
   "id": "0489c8ea",
   "metadata": {},
   "source": [
    "allows us to conditionally evaluate one of our options.\n",
    "\n",
    "For example, we might want to implement the FizzBuzz test: given a number, N, print \"Fizz\" if N is divisible by 3, \"Buzz\" if N is divisible by 5, and \"FizzBuzz\" if N is divisible by 3 and 5. Otherwise just print the number itself! Enter your choice for N here:"
   ]
  },
  {
   "cell_type": "code",
   "execution_count": 1,
   "id": "bfa41227",
   "metadata": {},
   "outputs": [
    {
     "name": "stdout",
     "output_type": "stream",
     "text": [
      "Buzz\n"
     ]
    }
   ],
   "source": [
    "N = 5\n",
    "\n",
    "if (N % 3 == 0) && (N % 5 == 0) # `&&` means \"AND\"; % computes the remainder after division\n",
    "    println(\"FizzBuzz\")\n",
    "elseif N % 3 == 0\n",
    "    println(\"Fizz\")\n",
    "elseif N % 5 == 0\n",
    "    println(\"Buzz\")\n",
    "else\n",
    "    println(N)\n",
    "end"
   ]
  },
  {
   "cell_type": "markdown",
   "id": "6bd1b39c",
   "metadata": {},
   "source": [
    "### with ternary operators\n",
    "For this last block, we could instead use the ternary operator with the syntax\n",
    "\n",
    "a ? b : c\n",
    "\n",
    "which equates to"
   ]
  },
  {
   "cell_type": "code",
   "execution_count": null,
   "id": "1d49399e",
   "metadata": {},
   "outputs": [],
   "source": [
    "if a\n",
    "    b\n",
    "else\n",
    "    c\n",
    "end"
   ]
  },
  {
   "cell_type": "code",
   "execution_count": 3,
   "id": "173fbb0e",
   "metadata": {},
   "outputs": [
    {
     "data": {
      "text/plain": [
       "30"
      ]
     },
     "execution_count": 3,
     "metadata": {},
     "output_type": "execute_result"
    }
   ],
   "source": [
    "x = 10\n",
    "y = 30"
   ]
  },
  {
   "cell_type": "code",
   "execution_count": 4,
   "id": "50fb9e1e",
   "metadata": {},
   "outputs": [
    {
     "data": {
      "text/plain": [
       "30"
      ]
     },
     "execution_count": 4,
     "metadata": {},
     "output_type": "execute_result"
    }
   ],
   "source": [
    "#using if\n",
    "if x > y\n",
    "    x\n",
    "else\n",
    "    y\n",
    "end"
   ]
  },
  {
   "cell_type": "code",
   "execution_count": 5,
   "id": "c96edab0",
   "metadata": {},
   "outputs": [
    {
     "data": {
      "text/plain": [
       "30"
      ]
     },
     "execution_count": 5,
     "metadata": {},
     "output_type": "execute_result"
    }
   ],
   "source": [
    "#ternary operator\n",
    "(x > y) ? x : y"
   ]
  },
  {
   "cell_type": "markdown",
   "id": "5d01e7ad",
   "metadata": {},
   "source": [
    "### with short-circuit evaluation\n",
    "We've already seen expressions with the syntax\n",
    "\n",
    "a && b\n"
   ]
  },
  {
   "cell_type": "code",
   "execution_count": 6,
   "id": "25a72327",
   "metadata": {},
   "outputs": [
    {
     "data": {
      "text/plain": [
       "false"
      ]
     },
     "execution_count": 6,
     "metadata": {},
     "output_type": "execute_result"
    }
   ],
   "source": [
    "false && (println(\"hi\"); true)"
   ]
  },
  {
   "cell_type": "code",
   "execution_count": 7,
   "id": "54aa7c84",
   "metadata": {},
   "outputs": [
    {
     "name": "stdout",
     "output_type": "stream",
     "text": [
      "hi\n"
     ]
    },
    {
     "data": {
      "text/plain": [
       "true"
      ]
     },
     "execution_count": 7,
     "metadata": {},
     "output_type": "execute_result"
    }
   ],
   "source": [
    "true && (println(\"hi\"); true)"
   ]
  },
  {
   "cell_type": "code",
   "execution_count": 9,
   "id": "96495599",
   "metadata": {},
   "outputs": [
    {
     "data": {
      "text/plain": [
       "true"
      ]
     },
     "execution_count": 9,
     "metadata": {},
     "output_type": "execute_result"
    }
   ],
   "source": [
    "true || println(\"hi\")"
   ]
  },
  {
   "cell_type": "code",
   "execution_count": 10,
   "id": "792df5cf",
   "metadata": {},
   "outputs": [
    {
     "name": "stdout",
     "output_type": "stream",
     "text": [
      "hi\n"
     ]
    }
   ],
   "source": [
    "false || println(\"hi\")"
   ]
  },
  {
   "cell_type": "markdown",
   "id": "277fd697",
   "metadata": {},
   "source": [
    "### Exercises\n",
    "\n",
    "Write a conditional statement that prints a number if the number is even and the string \"odd\" if the number is odd."
   ]
  },
  {
   "cell_type": "code",
   "execution_count": 13,
   "id": "ab54a77a",
   "metadata": {},
   "outputs": [
    {
     "name": "stdout",
     "output_type": "stream",
     "text": [
      "Odd\n"
     ]
    }
   ],
   "source": [
    "x = 3\n",
    "if x%2 == 0\n",
    "    println(x)\n",
    "else\n",
    "    println(\"Odd\")\n",
    "end"
   ]
  },
  {
   "cell_type": "markdown",
   "id": "17791b53",
   "metadata": {},
   "source": [
    "Rewrite the code above using a ternary operator."
   ]
  },
  {
   "cell_type": "code",
   "execution_count": 14,
   "id": "aea67eb8",
   "metadata": {},
   "outputs": [
    {
     "data": {
      "text/plain": [
       "\"Odd\""
      ]
     },
     "execution_count": 14,
     "metadata": {},
     "output_type": "execute_result"
    }
   ],
   "source": [
    "x = 3\n",
    "(x%2 == 0) ? x : \"Odd\""
   ]
  }
 ],
 "metadata": {
  "kernelspec": {
   "display_name": "Julia 1.6.2",
   "language": "julia",
   "name": "julia-1.6"
  },
  "language_info": {
   "file_extension": ".jl",
   "mimetype": "application/julia",
   "name": "julia",
   "version": "1.6.2"
  }
 },
 "nbformat": 4,
 "nbformat_minor": 5
}
