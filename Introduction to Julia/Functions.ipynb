{
 "cells": [
  {
   "cell_type": "markdown",
   "id": "efaa284a",
   "metadata": {},
   "source": [
    "# Functions\n",
    "Topics:\n",
    "\n",
    "1. How to declare a function\n",
    "2. Duck-typing in Julia\n",
    "3. Mutating vs. non-mutating functions\n",
    "4. Some higher order functions"
   ]
  },
  {
   "cell_type": "markdown",
   "id": "2aa58fcb",
   "metadata": {},
   "source": [
    "## How to declare a function\n",
    "Julia gives us a few different ways to write a function. The first requires the function and end keywords"
   ]
  },
  {
   "cell_type": "code",
   "execution_count": 1,
   "id": "6a586101",
   "metadata": {},
   "outputs": [
    {
     "data": {
      "text/plain": [
       "sayhi (generic function with 1 method)"
      ]
     },
     "execution_count": 1,
     "metadata": {},
     "output_type": "execute_result"
    }
   ],
   "source": [
    "function sayhi(name)\n",
    "    println(\"Hi $name, it's great to see you!\")\n",
    "end"
   ]
  },
  {
   "cell_type": "code",
   "execution_count": 2,
   "id": "57f8fed1",
   "metadata": {},
   "outputs": [
    {
     "data": {
      "text/plain": [
       "f (generic function with 1 method)"
      ]
     },
     "execution_count": 2,
     "metadata": {},
     "output_type": "execute_result"
    }
   ],
   "source": [
    "function f(x)\n",
    "    x^2\n",
    "end"
   ]
  },
  {
   "cell_type": "code",
   "execution_count": 3,
   "id": "7f30a8df",
   "metadata": {},
   "outputs": [
    {
     "name": "stdout",
     "output_type": "stream",
     "text": [
      "Hi C-3PO, it's great to see you!\n"
     ]
    }
   ],
   "source": [
    "sayhi(\"C-3PO\")"
   ]
  },
  {
   "cell_type": "code",
   "execution_count": 4,
   "id": "37d456f0",
   "metadata": {},
   "outputs": [
    {
     "data": {
      "text/plain": [
       "1764"
      ]
     },
     "execution_count": 4,
     "metadata": {},
     "output_type": "execute_result"
    }
   ],
   "source": [
    "f(42)"
   ]
  },
  {
   "cell_type": "markdown",
   "id": "e33e860f",
   "metadata": {},
   "source": [
    "Alternatively, we could have declared either of these functions in a single line"
   ]
  },
  {
   "cell_type": "code",
   "execution_count": 5,
   "id": "9cd8f395",
   "metadata": {},
   "outputs": [
    {
     "data": {
      "text/plain": [
       "sayhi2 (generic function with 1 method)"
      ]
     },
     "execution_count": 5,
     "metadata": {},
     "output_type": "execute_result"
    }
   ],
   "source": [
    "sayhi2(name) = println(\"Hi $name, it's great to see you!\")"
   ]
  },
  {
   "cell_type": "code",
   "execution_count": 6,
   "id": "dba8d73d",
   "metadata": {},
   "outputs": [
    {
     "data": {
      "text/plain": [
       "f2 (generic function with 1 method)"
      ]
     },
     "execution_count": 6,
     "metadata": {},
     "output_type": "execute_result"
    }
   ],
   "source": [
    "f2(x) = x^2"
   ]
  },
  {
   "cell_type": "markdown",
   "id": "881f26f5",
   "metadata": {},
   "source": [
    "Finally, we could have declared these as \"anonymous\" functions"
   ]
  },
  {
   "cell_type": "code",
   "execution_count": 7,
   "id": "a0aaf43a",
   "metadata": {},
   "outputs": [
    {
     "data": {
      "text/plain": [
       "#1 (generic function with 1 method)"
      ]
     },
     "execution_count": 7,
     "metadata": {},
     "output_type": "execute_result"
    }
   ],
   "source": [
    "sayhi3 = name -> println(\"Hi $name, it's great to see you!\")"
   ]
  },
  {
   "cell_type": "code",
   "execution_count": 8,
   "id": "133f4917",
   "metadata": {},
   "outputs": [
    {
     "data": {
      "text/plain": [
       "#3 (generic function with 1 method)"
      ]
     },
     "execution_count": 8,
     "metadata": {},
     "output_type": "execute_result"
    }
   ],
   "source": [
    "f3 = x -> x^2"
   ]
  },
  {
   "cell_type": "markdown",
   "id": "1214341c",
   "metadata": {},
   "source": [
    "## Duck-typing in Julia\n",
    "\n",
    "\"If it quacks like a duck, it's a duck.\"\n",
    "\n",
    "Julia functions will just work on whatever inputs make sense.\n",
    "\n",
    "For example, sayhi works on the name of this minor tv character, written as an integer..."
   ]
  },
  {
   "cell_type": "code",
   "execution_count": 9,
   "id": "964dbcee",
   "metadata": {},
   "outputs": [
    {
     "name": "stdout",
     "output_type": "stream",
     "text": [
      "Hi 55595472, it's great to see you!\n"
     ]
    }
   ],
   "source": [
    "sayhi(55595472)"
   ]
  },
  {
   "cell_type": "code",
   "execution_count": 10,
   "id": "133c2492",
   "metadata": {},
   "outputs": [
    {
     "data": {
      "text/plain": [
       "3×3 Matrix{Float64}:\n",
       " 0.293212  0.483216  0.156956\n",
       " 0.409784  0.838113  0.934566\n",
       " 0.638242  0.261685  0.965145"
      ]
     },
     "execution_count": 10,
     "metadata": {},
     "output_type": "execute_result"
    }
   ],
   "source": [
    "A = rand(3, 3)\n",
    "A"
   ]
  },
  {
   "cell_type": "code",
   "execution_count": 11,
   "id": "4d7c1dc9",
   "metadata": {},
   "outputs": [
    {
     "data": {
      "text/plain": [
       "3×3 Matrix{Float64}:\n",
       " 0.384163  0.587748  0.649104\n",
       " 1.06008   1.14501   1.74958\n",
       " 0.91037   0.780294  1.27624"
      ]
     },
     "execution_count": 11,
     "metadata": {},
     "output_type": "execute_result"
    }
   ],
   "source": [
    "f(A)"
   ]
  },
  {
   "cell_type": "code",
   "execution_count": 12,
   "id": "7f6db694",
   "metadata": {},
   "outputs": [
    {
     "data": {
      "text/plain": [
       "\"hihi\""
      ]
     },
     "execution_count": 12,
     "metadata": {},
     "output_type": "execute_result"
    }
   ],
   "source": [
    "f(\"hi\")"
   ]
  },
  {
   "cell_type": "markdown",
   "id": "65427aa2",
   "metadata": {},
   "source": [
    "On the other hand, f will not work on a vector. Unlike A^2, which is well-defined, the meaning of v^2 for a vector, v, is not a well-defined algebraic operation."
   ]
  },
  {
   "cell_type": "markdown",
   "id": "1c8cf1be",
   "metadata": {},
   "source": [
    "## Mutating vs. non-mutating functions\n",
    "\n",
    "By convention, functions followed by ! alter their contents and functions lacking ! do not.\n",
    "\n",
    "For example, let's look at the difference between sort and sort!."
   ]
  },
  {
   "cell_type": "code",
   "execution_count": 14,
   "id": "4a730cc7",
   "metadata": {},
   "outputs": [
    {
     "data": {
      "text/plain": [
       "3-element Vector{Int64}:\n",
       " 3\n",
       " 5\n",
       " 2"
      ]
     },
     "execution_count": 14,
     "metadata": {},
     "output_type": "execute_result"
    }
   ],
   "source": [
    "v = [3, 5, 2]"
   ]
  },
  {
   "cell_type": "code",
   "execution_count": 15,
   "id": "9601644b",
   "metadata": {},
   "outputs": [
    {
     "data": {
      "text/plain": [
       "3-element Vector{Int64}:\n",
       " 2\n",
       " 3\n",
       " 5"
      ]
     },
     "execution_count": 15,
     "metadata": {},
     "output_type": "execute_result"
    }
   ],
   "source": [
    "sort(v)"
   ]
  },
  {
   "cell_type": "code",
   "execution_count": 16,
   "id": "fb7cce9c",
   "metadata": {},
   "outputs": [
    {
     "data": {
      "text/plain": [
       "3-element Vector{Int64}:\n",
       " 3\n",
       " 5\n",
       " 2"
      ]
     },
     "execution_count": 16,
     "metadata": {},
     "output_type": "execute_result"
    }
   ],
   "source": [
    "v"
   ]
  },
  {
   "cell_type": "markdown",
   "id": "d8cd8630",
   "metadata": {},
   "source": [
    "Sort(v) returns a sorted array that contains the same elements as v, but v is left unchanged.\n",
    "\n",
    "On the other hand, when we run sort!(v), the contents of v are sorted within the array v."
   ]
  },
  {
   "cell_type": "code",
   "execution_count": 17,
   "id": "14214d51",
   "metadata": {},
   "outputs": [
    {
     "data": {
      "text/plain": [
       "3-element Vector{Int64}:\n",
       " 2\n",
       " 3\n",
       " 5"
      ]
     },
     "execution_count": 17,
     "metadata": {},
     "output_type": "execute_result"
    }
   ],
   "source": [
    "sort!(v)"
   ]
  },
  {
   "cell_type": "code",
   "execution_count": 18,
   "id": "17a61d0d",
   "metadata": {},
   "outputs": [
    {
     "data": {
      "text/plain": [
       "3-element Vector{Int64}:\n",
       " 2\n",
       " 3\n",
       " 5"
      ]
     },
     "execution_count": 18,
     "metadata": {},
     "output_type": "execute_result"
    }
   ],
   "source": [
    "v"
   ]
  },
  {
   "cell_type": "markdown",
   "id": "73c5f62e",
   "metadata": {},
   "source": [
    "## Some higher order functions\n",
    "\n",
    "#### map\n",
    "map is a \"higher-order\" function in Julia that takes a function as one of its input arguments. map then applies that function to every element of the data structure you pass it. For example, executing\n",
    "\n",
    "map(f, [1, 2, 3])\n",
    "will give you an output array where the function f has been applied to all elements of [1, 2, 3]\n",
    "\n",
    "[f(1), f(2), f(3)]"
   ]
  },
  {
   "cell_type": "code",
   "execution_count": 19,
   "id": "1674319f",
   "metadata": {},
   "outputs": [
    {
     "data": {
      "text/plain": [
       "3-element Vector{Int64}:\n",
       " 1\n",
       " 4\n",
       " 9"
      ]
     },
     "execution_count": 19,
     "metadata": {},
     "output_type": "execute_result"
    }
   ],
   "source": [
    "map(f, [1, 2, 3])"
   ]
  },
  {
   "cell_type": "markdown",
   "id": "bbb7166c",
   "metadata": {},
   "source": [
    "Here we've squared all the elements of the vector [1, 2, 3], rather than squaring the vector [1, 2, 3].\n",
    "\n",
    "To do this, we could have passed to map an anonymous function rather than a named function, such as"
   ]
  },
  {
   "cell_type": "code",
   "execution_count": 20,
   "id": "c22ef58b",
   "metadata": {},
   "outputs": [
    {
     "data": {
      "text/plain": [
       "#5 (generic function with 1 method)"
      ]
     },
     "execution_count": 20,
     "metadata": {},
     "output_type": "execute_result"
    }
   ],
   "source": [
    "x -> x^3"
   ]
  },
  {
   "cell_type": "markdown",
   "id": "dd4cbe75",
   "metadata": {},
   "source": [
    "via"
   ]
  },
  {
   "cell_type": "code",
   "execution_count": 22,
   "id": "33d44aab",
   "metadata": {},
   "outputs": [
    {
     "data": {
      "text/plain": [
       "3-element Vector{Int64}:\n",
       "  1\n",
       "  8\n",
       " 27"
      ]
     },
     "execution_count": 22,
     "metadata": {},
     "output_type": "execute_result"
    }
   ],
   "source": [
    "map(x -> x^3, [1, 2, 3])"
   ]
  },
  {
   "cell_type": "markdown",
   "id": "2ca5d953",
   "metadata": {},
   "source": [
    "and now we've cubed all the elements of [1, 2, 3]!"
   ]
  },
  {
   "cell_type": "markdown",
   "id": "1ede1031",
   "metadata": {},
   "source": [
    "#### broadcast\n",
    "\n",
    "broadcast is another higher-order function like map. broadcast is a generalization of map, so it can do every thing map can do and more. \n",
    "\n",
    "The syntax for calling broadcast is the same as for calling map"
   ]
  },
  {
   "cell_type": "code",
   "execution_count": 23,
   "id": "cb806492",
   "metadata": {},
   "outputs": [
    {
     "data": {
      "text/plain": [
       "3-element Vector{Int64}:\n",
       " 1\n",
       " 4\n",
       " 9"
      ]
     },
     "execution_count": 23,
     "metadata": {},
     "output_type": "execute_result"
    }
   ],
   "source": [
    "broadcast(f, [1, 2, 3])"
   ]
  },
  {
   "cell_type": "markdown",
   "id": "b7830704",
   "metadata": {},
   "source": [
    "and again, we've applied f (squared) to all the elements of [1, 2, 3] - this time by \"broadcasting\" f!\n",
    "\n",
    "Some syntactic sugar for calling broadcast is to place a . between the name of the function you want to broadcast and its input arguments. For example,\n",
    "\n",
    "broadcast(f, [1, 2, 3])\n",
    "is the same as\n",
    "\n",
    "f.([1, 2, 3])"
   ]
  },
  {
   "cell_type": "code",
   "execution_count": 24,
   "id": "9e6b1163",
   "metadata": {},
   "outputs": [
    {
     "data": {
      "text/plain": [
       "3-element Vector{Int64}:\n",
       " 1\n",
       " 4\n",
       " 9"
      ]
     },
     "execution_count": 24,
     "metadata": {},
     "output_type": "execute_result"
    }
   ],
   "source": [
    "f.([1, 2, 3])"
   ]
  },
  {
   "cell_type": "markdown",
   "id": "15d69cc2",
   "metadata": {},
   "source": [
    "Notice again how different this is from calling\n",
    "\n",
    "f([1, 2, 3])\n",
    "We can square every element of a vector, but we can't square a vector!\n",
    "\n",
    "To drive home the point, let's look at the difference between\n",
    "\n",
    "f(A)\n",
    "\n",
    "and\n",
    "\n",
    "f.(A)\n",
    "\n",
    "for a matrix A:"
   ]
  },
  {
   "cell_type": "code",
   "execution_count": 25,
   "id": "c63cb975",
   "metadata": {},
   "outputs": [
    {
     "data": {
      "text/plain": [
       "3×3 Matrix{Int64}:\n",
       " 1  2  3\n",
       " 4  5  6\n",
       " 7  8  9"
      ]
     },
     "execution_count": 25,
     "metadata": {},
     "output_type": "execute_result"
    }
   ],
   "source": [
    "A = [i + 3*j for j in 0:2, i in 1:3]\n"
   ]
  },
  {
   "cell_type": "code",
   "execution_count": 26,
   "id": "c98dfaa2",
   "metadata": {},
   "outputs": [
    {
     "data": {
      "text/plain": [
       "3×3 Matrix{Int64}:\n",
       "  30   36   42\n",
       "  66   81   96\n",
       " 102  126  150"
      ]
     },
     "execution_count": 26,
     "metadata": {},
     "output_type": "execute_result"
    }
   ],
   "source": [
    "f(A)"
   ]
  },
  {
   "cell_type": "markdown",
   "id": "f20f5280",
   "metadata": {},
   "source": [
    "As before we see that for a matrix, A,\n",
    "\n",
    "f(A) = A^2 = A * A\n",
    "\n",
    "On the other hand,"
   ]
  },
  {
   "cell_type": "code",
   "execution_count": 27,
   "id": "98a33333",
   "metadata": {},
   "outputs": [
    {
     "data": {
      "text/plain": [
       "3×3 Matrix{Int64}:\n",
       "  1   4   9\n",
       " 16  25  36\n",
       " 49  64  81"
      ]
     },
     "execution_count": 27,
     "metadata": {},
     "output_type": "execute_result"
    }
   ],
   "source": [
    "B = f.(A)\n"
   ]
  },
  {
   "cell_type": "markdown",
   "id": "b33b02e1",
   "metadata": {},
   "source": [
    "contains the squares of all the entries of A.\n",
    "\n",
    "This dot syntax for broadcasting allows us to write relatively complex compound elementwise expressions in a way that looks natural/closer to mathematical notation. For example, we can write"
   ]
  },
  {
   "cell_type": "code",
   "execution_count": 28,
   "id": "e5f63f7d",
   "metadata": {},
   "outputs": [
    {
     "data": {
      "text/plain": [
       "3×3 Matrix{Float64}:\n",
       "  3.0   6.0   9.0\n",
       " 12.0  15.0  18.0\n",
       " 21.0  24.0  27.0"
      ]
     },
     "execution_count": 28,
     "metadata": {},
     "output_type": "execute_result"
    }
   ],
   "source": [
    "A .+ 2 .* f.(A) ./ A"
   ]
  },
  {
   "cell_type": "code",
   "execution_count": 29,
   "id": "26321522",
   "metadata": {},
   "outputs": [
    {
     "data": {
      "text/plain": [
       "3×3 Matrix{Float64}:\n",
       "  3.0   6.0   9.0\n",
       " 12.0  15.0  18.0\n",
       " 21.0  24.0  27.0"
      ]
     },
     "execution_count": 29,
     "metadata": {},
     "output_type": "execute_result"
    }
   ],
   "source": [
    "broadcast(x -> x + 2 * f(x) / x, A)"
   ]
  },
  {
   "cell_type": "markdown",
   "id": "180d9d60",
   "metadata": {},
   "source": [
    "and the two will perform exactly the same."
   ]
  },
  {
   "cell_type": "markdown",
   "id": "ee7c8f0a",
   "metadata": {},
   "source": [
    "### Exercises\n",
    "\n",
    "Write a function add_one that adds 1 to its input."
   ]
  },
  {
   "cell_type": "code",
   "execution_count": 30,
   "id": "9eb80fdb",
   "metadata": {},
   "outputs": [
    {
     "data": {
      "text/plain": [
       "add_one (generic function with 1 method)"
      ]
     },
     "execution_count": 30,
     "metadata": {},
     "output_type": "execute_result"
    }
   ],
   "source": [
    "add_one(x) = x+1 "
   ]
  },
  {
   "cell_type": "code",
   "execution_count": 31,
   "id": "7cbc8298",
   "metadata": {},
   "outputs": [],
   "source": [
    "@assert add_one(1) == 2\n",
    "@assert add_one(11) == 12"
   ]
  },
  {
   "cell_type": "markdown",
   "id": "e303ed3f",
   "metadata": {},
   "source": [
    "Use map or broadcast to increment every element of matrix A by 1 and assign it to a variable A1."
   ]
  },
  {
   "cell_type": "code",
   "execution_count": 39,
   "id": "9f991bf2",
   "metadata": {},
   "outputs": [
    {
     "data": {
      "text/plain": [
       "3×3 Matrix{Int64}:\n",
       " 2  3   4\n",
       " 5  6   7\n",
       " 8  9  10"
      ]
     },
     "execution_count": 39,
     "metadata": {},
     "output_type": "execute_result"
    }
   ],
   "source": [
    "A = [i + 3*j for j in 0:2, i in 1:3]\n",
    "\n",
    "A1 = map(add_one, A)"
   ]
  },
  {
   "cell_type": "code",
   "execution_count": 40,
   "id": "3fe9d4cd",
   "metadata": {},
   "outputs": [],
   "source": [
    "@assert A1 == [2 3 4; 5 6 7; 8 9 10]"
   ]
  },
  {
   "cell_type": "code",
   "execution_count": 44,
   "id": "16f78e7a",
   "metadata": {},
   "outputs": [
    {
     "data": {
      "text/plain": [
       "3×3 Matrix{Int64}:\n",
       " 3   4   5\n",
       " 6   7   8\n",
       " 9  10  11"
      ]
     },
     "execution_count": 44,
     "metadata": {},
     "output_type": "execute_result"
    }
   ],
   "source": [
    "A2 = add_one.(A1)"
   ]
  },
  {
   "cell_type": "code",
   "execution_count": 45,
   "id": "26a41c1a",
   "metadata": {},
   "outputs": [],
   "source": [
    "@assert A2 == [3 4 5; 6 7 8; 9 10 11]"
   ]
  }
 ],
 "metadata": {
  "kernelspec": {
   "display_name": "Julia 1.6.2",
   "language": "julia",
   "name": "julia-1.6"
  },
  "language_info": {
   "file_extension": ".jl",
   "mimetype": "application/julia",
   "name": "julia",
   "version": "1.6.2"
  }
 },
 "nbformat": 4,
 "nbformat_minor": 5
}
