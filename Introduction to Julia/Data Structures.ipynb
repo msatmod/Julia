{
 "cells": [
  {
   "cell_type": "markdown",
   "id": "de77cae4",
   "metadata": {},
   "source": [
    "# Data structures"
   ]
  },
  {
   "cell_type": "markdown",
   "id": "5ac6e9df",
   "metadata": {},
   "source": [
    "Types of data structures covered:\n",
    "\n",
    "1. Tuples\n",
    "2. Dictionaries\n",
    "3. Arrays\n"
   ]
  },
  {
   "cell_type": "markdown",
   "id": "2e33bda8",
   "metadata": {},
   "source": [
    "### Tuples\n",
    "We can create a tuple by enclosing an ordered collection of elements in ( ).\n",
    "Tuples are immutable, we can't update them.\n",
    "\n",
    "Syntax:\n",
    "\n",
    "(item1, item2, ...)"
   ]
  },
  {
   "cell_type": "code",
   "execution_count": 2,
   "id": "81624d30",
   "metadata": {},
   "outputs": [
    {
     "data": {
      "text/plain": [
       "(\"pizza\", \"curry\", \"samosa\")"
      ]
     },
     "execution_count": 2,
     "metadata": {},
     "output_type": "execute_result"
    }
   ],
   "source": [
    "meals = (\"pizza\", \"curry\", \"samosa\")"
   ]
  },
  {
   "cell_type": "code",
   "execution_count": 3,
   "id": "14bf4316",
   "metadata": {},
   "outputs": [
    {
     "data": {
      "text/plain": [
       "\"pizza\""
      ]
     },
     "execution_count": 3,
     "metadata": {},
     "output_type": "execute_result"
    }
   ],
   "source": [
    "meals[1]"
   ]
  },
  {
   "cell_type": "markdown",
   "id": "7742dda8",
   "metadata": {},
   "source": [
    "### NamedTuples\n",
    "\n",
    "NamedTuples are just like Tuples except that each element additionally has a name. \n",
    "\n",
    "They have a special syntax using = inside a tuple:\n",
    "\n",
    "(name1 = item1, name2 = item2, ...)\n",
    "\n"
   ]
  },
  {
   "cell_type": "code",
   "execution_count": 4,
   "id": "1e958657",
   "metadata": {},
   "outputs": [
    {
     "data": {
      "text/plain": [
       "(car = \"Volkswagen\", bike = \"Kawasaki\", plane = \"concorde\")"
      ]
     },
     "execution_count": 4,
     "metadata": {},
     "output_type": "execute_result"
    }
   ],
   "source": [
    "vehicles = (car = \"Volkswagen\", bike = \"Kawasaki\", plane = \"concorde\")"
   ]
  },
  {
   "cell_type": "code",
   "execution_count": 5,
   "id": "7f2ab6bb",
   "metadata": {},
   "outputs": [
    {
     "data": {
      "text/plain": [
       "\"Kawasaki\""
      ]
     },
     "execution_count": 5,
     "metadata": {},
     "output_type": "execute_result"
    }
   ],
   "source": [
    "vehicles[2]"
   ]
  },
  {
   "cell_type": "code",
   "execution_count": 6,
   "id": "2d1db23e",
   "metadata": {},
   "outputs": [
    {
     "data": {
      "text/plain": [
       "\"Kawasaki\""
      ]
     },
     "execution_count": 6,
     "metadata": {},
     "output_type": "execute_result"
    }
   ],
   "source": [
    "#access values by their name\n",
    "vehicles.bike"
   ]
  },
  {
   "cell_type": "markdown",
   "id": "b2792418",
   "metadata": {},
   "source": [
    "### Dictionaries\n",
    "If we have sets of data related to one another, we may choose to store that data in a dictionary. We can create a dictionary using the Dict() function, which we can initialize as an empty dictionary or one storing key, value pairs.\n",
    "\n",
    "Syntax:\n",
    "\n",
    "Dict(key1 => value1, key2 => value2, ...)\n",
    "A good example is a contacts list, where we associate names with phone numbers."
   ]
  },
  {
   "cell_type": "code",
   "execution_count": 7,
   "id": "41ea48fe",
   "metadata": {},
   "outputs": [
    {
     "data": {
      "text/plain": [
       "Dict{String, String} with 2 entries:\n",
       "  \"Anchan\" => \"Dombivali\"\n",
       "  \"Swara\"  => \"Belapur\""
      ]
     },
     "execution_count": 7,
     "metadata": {},
     "output_type": "execute_result"
    }
   ],
   "source": [
    "address = Dict(\"Swara\" => \"Belapur\", \"Anchan\" => \"Dombivali\")\n"
   ]
  },
  {
   "cell_type": "code",
   "execution_count": 9,
   "id": "23c438fc",
   "metadata": {},
   "outputs": [
    {
     "data": {
      "text/plain": [
       "\"Belapur\""
      ]
     },
     "execution_count": 9,
     "metadata": {},
     "output_type": "execute_result"
    }
   ],
   "source": [
    "address[\"Swara\"]"
   ]
  },
  {
   "cell_type": "code",
   "execution_count": 10,
   "id": "5d6f526e",
   "metadata": {},
   "outputs": [
    {
     "data": {
      "text/plain": [
       "\"Goregaon\""
      ]
     },
     "execution_count": 10,
     "metadata": {},
     "output_type": "execute_result"
    }
   ],
   "source": [
    "address[\"Yagna\"] = \"Goregaon\""
   ]
  },
  {
   "cell_type": "code",
   "execution_count": 11,
   "id": "dce25474",
   "metadata": {},
   "outputs": [
    {
     "data": {
      "text/plain": [
       "Dict{String, String} with 3 entries:\n",
       "  \"Yagna\"  => \"Goregaon\"\n",
       "  \"Anchan\" => \"Dombivali\"\n",
       "  \"Swara\"  => \"Belapur\""
      ]
     },
     "execution_count": 11,
     "metadata": {},
     "output_type": "execute_result"
    }
   ],
   "source": [
    "address"
   ]
  },
  {
   "cell_type": "code",
   "execution_count": 12,
   "id": "ab29bed2",
   "metadata": {},
   "outputs": [
    {
     "data": {
      "text/plain": [
       "\"Goregaon\""
      ]
     },
     "execution_count": 12,
     "metadata": {},
     "output_type": "execute_result"
    }
   ],
   "source": [
    "#delete Yagna from address list - and simultaneously grab her address - by using pop!\n",
    "pop!(address, \"Yagna\")"
   ]
  },
  {
   "cell_type": "markdown",
   "id": "467fa841",
   "metadata": {},
   "source": [
    "Unlike tuples and arrays, dictionaries are not ordered. So, we can't index into them."
   ]
  },
  {
   "cell_type": "markdown",
   "id": "d126b35e",
   "metadata": {},
   "source": [
    "### Arrays\n",
    "Unlike tuples, arrays are mutable. Unlike dictionaries, arrays contain ordered collections.\n",
    "We can create an array by enclosing this collection in [ ].\n",
    "\n",
    "Syntax:\n",
    "\n",
    "[item1, item2, ...]\n"
   ]
  },
  {
   "cell_type": "code",
   "execution_count": 13,
   "id": "642224fc",
   "metadata": {},
   "outputs": [
    {
     "data": {
      "text/plain": [
       "5-element Vector{String}:\n",
       " \"Majunga\"\n",
       " \"Tana\"\n",
       " \"Diego-Suarez\"\n",
       " \"Tamatave\"\n",
       " \"Tulear\""
      ]
     },
     "execution_count": 13,
     "metadata": {},
     "output_type": "execute_result"
    }
   ],
   "source": [
    "cities = [\"Majunga\", \"Tana\", \"Diego-Suarez\", \"Tamatave\", \"Tulear\"]"
   ]
  },
  {
   "cell_type": "code",
   "execution_count": 14,
   "id": "2ca38cfb",
   "metadata": {},
   "outputs": [
    {
     "data": {
      "text/plain": [
       "7-element Vector{Int64}:\n",
       "  1\n",
       "  1\n",
       "  2\n",
       "  3\n",
       "  5\n",
       "  8\n",
       " 13"
      ]
     },
     "execution_count": 14,
     "metadata": {},
     "output_type": "execute_result"
    }
   ],
   "source": [
    "fibonacci = [1, 1, 2, 3, 5, 8, 13]"
   ]
  },
  {
   "cell_type": "code",
   "execution_count": 15,
   "id": "ff1c8ff8",
   "metadata": {},
   "outputs": [
    {
     "data": {
      "text/plain": [
       "5-element Vector{Any}:\n",
       " 1\n",
       "  \"Tana\"\n",
       " 2\n",
       " 5\n",
       "  \"Fianar\""
      ]
     },
     "execution_count": 15,
     "metadata": {},
     "output_type": "execute_result"
    }
   ],
   "source": [
    "mix = [1, \"Tana\", 2, 5, \"Fianar\"]"
   ]
  },
  {
   "cell_type": "code",
   "execution_count": 16,
   "id": "dab5f037",
   "metadata": {},
   "outputs": [
    {
     "data": {
      "text/plain": [
       "\"Majunga\""
      ]
     },
     "execution_count": 16,
     "metadata": {},
     "output_type": "execute_result"
    }
   ],
   "source": [
    "#grab individual pieces of data from inside that array by indexing into the array.\n",
    "cities[1]"
   ]
  },
  {
   "cell_type": "code",
   "execution_count": 17,
   "id": "8a1903ec",
   "metadata": {},
   "outputs": [
    {
     "data": {
      "text/plain": [
       "\"Fianaranstoa\""
      ]
     },
     "execution_count": 17,
     "metadata": {},
     "output_type": "execute_result"
    }
   ],
   "source": [
    "#indexing to edit an existing element of an array\n",
    "cities[5] = \"Fianaranstoa\""
   ]
  },
  {
   "cell_type": "code",
   "execution_count": 18,
   "id": "c29b8ccd",
   "metadata": {},
   "outputs": [
    {
     "data": {
      "text/plain": [
       "8-element Vector{Int64}:\n",
       "  1\n",
       "  1\n",
       "  2\n",
       "  3\n",
       "  5\n",
       "  8\n",
       " 13\n",
       " 21"
      ]
     },
     "execution_count": 18,
     "metadata": {},
     "output_type": "execute_result"
    }
   ],
   "source": [
    "push!(fibonacci, 21)"
   ]
  },
  {
   "cell_type": "code",
   "execution_count": 19,
   "id": "832eca5b",
   "metadata": {},
   "outputs": [
    {
     "data": {
      "text/plain": [
       "21"
      ]
     },
     "execution_count": 19,
     "metadata": {},
     "output_type": "execute_result"
    }
   ],
   "source": [
    "pop!(fibonacci)"
   ]
  },
  {
   "cell_type": "code",
   "execution_count": 20,
   "id": "3206c8be",
   "metadata": {},
   "outputs": [
    {
     "data": {
      "text/plain": [
       "2-element Vector{Vector{String}}:\n",
       " [\"koobideh\", \"chocolate\", \"eggs\"]\n",
       " [\"penguins\", \"cats\", \"sugargliders\"]"
      ]
     },
     "execution_count": 20,
     "metadata": {},
     "output_type": "execute_result"
    }
   ],
   "source": [
    "favorites = [[\"koobideh\", \"chocolate\", \"eggs\"],[\"penguins\", \"cats\", \"sugargliders\"]]"
   ]
  },
  {
   "cell_type": "code",
   "execution_count": 21,
   "id": "adabe7c3",
   "metadata": {},
   "outputs": [
    {
     "data": {
      "text/plain": [
       "3-element Vector{Vector{Int64}}:\n",
       " [1, 2, 3]\n",
       " [4, 5]\n",
       " [6, 7, 8, 9]"
      ]
     },
     "execution_count": 21,
     "metadata": {},
     "output_type": "execute_result"
    }
   ],
   "source": [
    "numbers = [[1, 2, 3], [4, 5], [6, 7, 8, 9]]"
   ]
  },
  {
   "cell_type": "code",
   "execution_count": 22,
   "id": "430c579c",
   "metadata": {},
   "outputs": [
    {
     "data": {
      "text/plain": [
       "4×3 Matrix{Float64}:\n",
       " 0.167576   0.108228  0.549467\n",
       " 0.155194   0.640094  0.680063\n",
       " 0.0594463  0.43041   0.0776034\n",
       " 0.441694   0.82102   0.129293"
      ]
     },
     "execution_count": 22,
     "metadata": {},
     "output_type": "execute_result"
    }
   ],
   "source": [
    "rand(4, 3)"
   ]
  },
  {
   "cell_type": "code",
   "execution_count": 23,
   "id": "b348aea1",
   "metadata": {},
   "outputs": [
    {
     "data": {
      "text/plain": [
       "4×3×2 Array{Float64, 3}:\n",
       "[:, :, 1] =\n",
       " 0.654779  0.0296807  0.844921\n",
       " 0.920674  0.401458   0.898585\n",
       " 0.028608  0.394937   0.0542495\n",
       " 0.889558  0.788247   0.272997\n",
       "\n",
       "[:, :, 2] =\n",
       " 0.354656   0.401482   0.670146\n",
       " 0.0163114  0.436963   0.481893\n",
       " 0.183208   0.321243   0.160348\n",
       " 0.571956   0.0664138  0.0924618"
      ]
     },
     "execution_count": 23,
     "metadata": {},
     "output_type": "execute_result"
    }
   ],
   "source": [
    "rand(4, 3, 2)"
   ]
  },
  {
   "cell_type": "code",
   "execution_count": 24,
   "id": "49c5a10e",
   "metadata": {},
   "outputs": [
    {
     "data": {
      "text/plain": [
       "7-element Vector{Int64}:\n",
       "  1\n",
       "  1\n",
       "  2\n",
       "  3\n",
       "  5\n",
       "  8\n",
       " 13"
      ]
     },
     "execution_count": 24,
     "metadata": {},
     "output_type": "execute_result"
    }
   ],
   "source": [
    "fibonacci"
   ]
  },
  {
   "cell_type": "code",
   "execution_count": 25,
   "id": "0fb7923a",
   "metadata": {},
   "outputs": [
    {
     "data": {
      "text/plain": [
       "7-element Vector{Int64}:\n",
       "  1\n",
       "  1\n",
       "  2\n",
       "  3\n",
       "  5\n",
       "  8\n",
       " 13"
      ]
     },
     "execution_count": 25,
     "metadata": {},
     "output_type": "execute_result"
    }
   ],
   "source": [
    "somenumbers = fibonacci"
   ]
  },
  {
   "cell_type": "code",
   "execution_count": 26,
   "id": "f593c102",
   "metadata": {},
   "outputs": [
    {
     "data": {
      "text/plain": [
       "404"
      ]
     },
     "execution_count": 26,
     "metadata": {},
     "output_type": "execute_result"
    }
   ],
   "source": [
    "somenumbers[1] = 404"
   ]
  },
  {
   "cell_type": "code",
   "execution_count": 27,
   "id": "be3ffc30",
   "metadata": {},
   "outputs": [
    {
     "data": {
      "text/plain": [
       "7-element Vector{Int64}:\n",
       " 404\n",
       "   1\n",
       "   2\n",
       "   3\n",
       "   5\n",
       "   8\n",
       "  13"
      ]
     },
     "execution_count": 27,
     "metadata": {},
     "output_type": "execute_result"
    }
   ],
   "source": [
    "fibonacci"
   ]
  },
  {
   "cell_type": "code",
   "execution_count": 28,
   "id": "d6922eb9",
   "metadata": {},
   "outputs": [
    {
     "data": {
      "text/plain": [
       "7-element Vector{Int64}:\n",
       "  1\n",
       "  1\n",
       "  2\n",
       "  3\n",
       "  5\n",
       "  8\n",
       " 13"
      ]
     },
     "execution_count": 28,
     "metadata": {},
     "output_type": "execute_result"
    }
   ],
   "source": [
    "#First, restore fibonacci\n",
    "fibonacci[1] = 1\n",
    "fibonacci"
   ]
  },
  {
   "cell_type": "code",
   "execution_count": 29,
   "id": "8e8f2fa3",
   "metadata": {},
   "outputs": [
    {
     "data": {
      "text/plain": [
       "7-element Vector{Int64}:\n",
       "  1\n",
       "  1\n",
       "  2\n",
       "  3\n",
       "  5\n",
       "  8\n",
       " 13"
      ]
     },
     "execution_count": 29,
     "metadata": {},
     "output_type": "execute_result"
    }
   ],
   "source": [
    "somemorenumbers = copy(fibonacci)"
   ]
  },
  {
   "cell_type": "code",
   "execution_count": 30,
   "id": "dad6543b",
   "metadata": {},
   "outputs": [
    {
     "data": {
      "text/plain": [
       "404"
      ]
     },
     "execution_count": 30,
     "metadata": {},
     "output_type": "execute_result"
    }
   ],
   "source": [
    "somemorenumbers[1] = 404"
   ]
  },
  {
   "cell_type": "code",
   "execution_count": 31,
   "id": "8e6bf6f7",
   "metadata": {},
   "outputs": [
    {
     "data": {
      "text/plain": [
       "7-element Vector{Int64}:\n",
       "  1\n",
       "  1\n",
       "  2\n",
       "  3\n",
       "  5\n",
       "  8\n",
       " 13"
      ]
     },
     "execution_count": 31,
     "metadata": {},
     "output_type": "execute_result"
    }
   ],
   "source": [
    "fibonacci"
   ]
  },
  {
   "cell_type": "markdown",
   "id": "5ff131a6",
   "metadata": {},
   "source": [
    "In this last example, fibonacci was not updated. Therefore we see that the arrays bound to somemorenumbers and fibonacci are distinct."
   ]
  },
  {
   "cell_type": "markdown",
   "id": "68871282",
   "metadata": {},
   "source": [
    "### Exercises\n",
    "Create an array, a_ray, with the following code:\n",
    "\n",
    "a_ray = [1, 2, 3]\n",
    "Add the number 4 to the end of this array and then remove it."
   ]
  },
  {
   "cell_type": "code",
   "execution_count": 32,
   "id": "276a8203",
   "metadata": {},
   "outputs": [
    {
     "data": {
      "text/plain": [
       "3-element Vector{Int64}:\n",
       " 1\n",
       " 2\n",
       " 3"
      ]
     },
     "execution_count": 32,
     "metadata": {},
     "output_type": "execute_result"
    }
   ],
   "source": [
    "a_ray = [1,2,3]"
   ]
  },
  {
   "cell_type": "code",
   "execution_count": 36,
   "id": "14b00a42",
   "metadata": {},
   "outputs": [
    {
     "data": {
      "text/plain": [
       "4-element Vector{Int64}:\n",
       " 1\n",
       " 2\n",
       " 3\n",
       " 4"
      ]
     },
     "execution_count": 36,
     "metadata": {},
     "output_type": "execute_result"
    }
   ],
   "source": [
    "push!(a_ray,4)"
   ]
  },
  {
   "cell_type": "code",
   "execution_count": 37,
   "id": "cb16d26b",
   "metadata": {},
   "outputs": [
    {
     "data": {
      "text/plain": [
       "4"
      ]
     },
     "execution_count": 37,
     "metadata": {},
     "output_type": "execute_result"
    }
   ],
   "source": [
    "pop!(a_ray)"
   ]
  },
  {
   "cell_type": "code",
   "execution_count": 38,
   "id": "af7433e0",
   "metadata": {},
   "outputs": [],
   "source": [
    "@assert a_ray == [1, 2, 3]"
   ]
  },
  {
   "cell_type": "code",
   "execution_count": 39,
   "id": "3ce9ae40",
   "metadata": {},
   "outputs": [
    {
     "data": {
      "text/plain": [
       "Dict{String, Any} with 2 entries:\n",
       "  \"Jenny\"        => 8675309\n",
       "  \"Ghostbusters\" => \"555-2368\""
      ]
     },
     "execution_count": 39,
     "metadata": {},
     "output_type": "execute_result"
    }
   ],
   "source": [
    "flexible_phonebook = Dict(\"Jenny\" => 8675309, \"Ghostbusters\" => \"555-2368\")"
   ]
  },
  {
   "cell_type": "code",
   "execution_count": 40,
   "id": "97c37ce5",
   "metadata": {},
   "outputs": [],
   "source": [
    "@assert flexible_phonebook == Dict(\"Jenny\" => 8675309, \"Ghostbusters\" => \"555-2368\")"
   ]
  },
  {
   "cell_type": "code",
   "execution_count": 41,
   "id": "2805af9b",
   "metadata": {},
   "outputs": [
    {
     "data": {
      "text/plain": [
       "911"
      ]
     },
     "execution_count": 41,
     "metadata": {},
     "output_type": "execute_result"
    }
   ],
   "source": [
    "flexible_phonebook[\"Emergency\"] = 911"
   ]
  },
  {
   "cell_type": "code",
   "execution_count": 42,
   "id": "4bea4d92",
   "metadata": {},
   "outputs": [],
   "source": [
    "@assert haskey(flexible_phonebook, \"Emergency\")\n",
    "@assert flexible_phonebook[\"Emergency\"] == 911"
   ]
  }
 ],
 "metadata": {
  "kernelspec": {
   "display_name": "Julia 1.6.2",
   "language": "julia",
   "name": "julia-1.6"
  },
  "language_info": {
   "file_extension": ".jl",
   "mimetype": "application/julia",
   "name": "julia",
   "version": "1.6.2"
  }
 },
 "nbformat": 4,
 "nbformat_minor": 5
}
