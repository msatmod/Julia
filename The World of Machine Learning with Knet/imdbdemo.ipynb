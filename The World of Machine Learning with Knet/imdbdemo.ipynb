{
 "cells": [
  {
   "outputs": [],
   "cell_type": "code",
   "source": [
    "import Pkg; Pkg.add(Pkg.PackageSpec(url=\"https://github.com/JuliaComputing/JuliaAcademyData.jl\"))\n",
    "using JuliaAcademyData; activate(\"World of machine learning\")"
   ],
   "metadata": {},
   "execution_count": null
  },
  {
   "outputs": [],
   "cell_type": "markdown",
   "source": [
    "# IMDB Movie Review Sentiment Analysis Demo"
   ],
   "metadata": {}
  },
  {
   "outputs": [],
   "cell_type": "markdown",
   "source": [
    "## Setup\n",
    "* Adds required packages to Julia.\n",
    "* Loads the data and a pretrained model.\n",
    "* See [07.imdb.ipynb](https://github.com/denizyuret/Knet.jl/blob/v1.1.1/tutorial/07.imdb.ipynb) to see how the model was trained."
   ],
   "metadata": {}
  },
  {
   "outputs": [],
   "cell_type": "code",
   "source": [
    "cd(datapath(\"imdb\"))\n",
    "include(\"imdb.jl\")"
   ],
   "metadata": {},
   "execution_count": null
  },
  {
   "outputs": [],
   "cell_type": "markdown",
   "source": [
    "## Sample Data\n",
    "The model was trained using 25000 movie reviews such as the following (shift-ENTER to see random example)\n",
    "Each review was tokenized, lowercased, truncated to max 150 words and a 30,000 word vocabulary."
   ],
   "metadata": {}
  },
  {
   "outputs": [],
   "cell_type": "code",
   "source": [
    "r = rand(1:length(xtrn))\n",
    "println(reviewstring(xtrn[r],ytrn[r]))\n",
    "flush(stdout)"
   ],
   "metadata": {},
   "execution_count": null
  },
  {
   "outputs": [],
   "cell_type": "markdown",
   "source": [
    "## Test\n",
    "We test the model on 25000 never before seen reviews on the test set (shift-ENTER to see random example)\n",
    "The test accuracy is around 86%"
   ],
   "metadata": {}
  },
  {
   "outputs": [],
   "cell_type": "code",
   "source": [
    "r = rand(1:length(xtst))\n",
    "println(reviewstring(xtst[r],ytst[r]))\n",
    "println(predictstring(xtst[r]))\n",
    "flush(stdout)"
   ],
   "metadata": {},
   "execution_count": null
  },
  {
   "outputs": [],
   "cell_type": "markdown",
   "source": [
    "## User Input\n",
    "In this cell you can enter your own review and let the model guess the sentiment"
   ],
   "metadata": {}
  },
  {
   "outputs": [],
   "cell_type": "code",
   "source": [
    "userinput = readline(stdin)\n",
    "words = split(lowercase(userinput))\n",
    "ex = [get!(imdbdict,wr,UNK) for wr in words]\n",
    "ex[ex.>VOCABSIZE].=UNK\n",
    "println(predictstring(ex))"
   ],
   "metadata": {},
   "execution_count": null
  }
 ],
 "nbformat_minor": 3,
 "metadata": {
  "language_info": {
   "file_extension": ".jl",
   "mimetype": "application/julia",
   "name": "julia",
   "version": "1.0.3"
  },
  "kernelspec": {
   "name": "julia-1.0",
   "display_name": "Julia 1.0.3",
   "language": "julia"
  }
 },
 "nbformat": 4
}
