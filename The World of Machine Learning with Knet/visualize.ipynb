{
 "cells": [
  {
   "outputs": [],
   "cell_type": "code",
   "source": [
    "import Pkg; Pkg.add(Pkg.PackageSpec(url=\"https://github.com/JuliaComputing/JuliaAcademyData.jl\"))\n",
    "using JuliaAcademyData; activate(\"World of machine learning\")"
   ],
   "metadata": {},
   "execution_count": null
  },
  {
   "outputs": [],
   "cell_type": "markdown",
   "source": [
    "# Visual Q&A Demo"
   ],
   "metadata": {}
  },
  {
   "outputs": [],
   "cell_type": "markdown",
   "source": [
    "## Setup\n",
    "1-Installs required packages\n",
    "2-Downloads sample data and a pretrained model."
   ],
   "metadata": {}
  },
  {
   "outputs": [],
   "cell_type": "code",
   "source": [
    "cd(datapath(\"visualize\"))\n",
    "include(\"demosetup.jl\")\n",
    "include(\"src/main.jl\")"
   ],
   "metadata": {},
   "execution_count": null
  },
  {
   "outputs": [],
   "cell_type": "markdown",
   "source": [
    "## Initialization\n",
    "1-Loads the sample demo data (image features,questions,vocabulary).\n",
    "    * w2i : words to one-hot index   : w2i[\"cube\"] = 30\n",
    "    * a2i : answer to one-hot index  : a2i[\"gray\"] = 8\n",
    "    * i2w : one-hot index to words   : i2w[2] = \"Are\"\n",
    "    * i2a : one-hot index to answers : i2a[5] = \"large\"\n",
    "2-Loads the pretrained model, and its hyper-parameters `o`."
   ],
   "metadata": {}
  },
  {
   "outputs": [],
   "cell_type": "code",
   "source": [
    "feats,qstsns,(w2i,a2i,i2w,i2a) = loadDemoData(\"data/demo/\");\n",
    "_,Mrun,o = loadmodel(\"models/macnet.jld2\";onlywrun=true);\n",
    "global atype = typeof(params(Mrun)[1].value) <: Array ? Array{Float32} : KnetArray{Float32}"
   ],
   "metadata": {},
   "execution_count": null
  },
  {
   "outputs": [],
   "cell_type": "markdown",
   "source": [
    "## Sample Data\n",
    "1-Randomly selects (question,image) pair from the sample data\n",
    "2-Make predictions for the question and checks whether the prediction is correct"
   ],
   "metadata": {}
  },
  {
   "outputs": [],
   "cell_type": "code",
   "source": [
    "rnd        = rand(1:length(qstsns))\n",
    "inst       = qstsns[rnd]\n",
    "feat       = atype(feats[:,:,:,rnd:rnd])\n",
    "question   = Array{Int}(inst[2])\n",
    "answer     = inst[3];\n",
    "family     = inst[4];\n",
    "results,prediction,interoutputs = singlerun(Mrun,feat,question;p=o[:p],selfattn=o[:selfattn],gating=o[:gating]);\n",
    "interoutputs = first.(interoutputs)\n",
    "answer==prediction[1]"
   ],
   "metadata": {},
   "execution_count": null
  },
  {
   "outputs": [],
   "cell_type": "code",
   "source": [
    "(i2a[interoutputs],prediction[1])"
   ],
   "metadata": {},
   "execution_count": null
  },
  {
   "outputs": [],
   "cell_type": "code",
   "source": [
    "img = load(\"data/demo/CLEVR_v1.0/images/val/$(inst[1])\")"
   ],
   "metadata": {},
   "execution_count": null
  },
  {
   "outputs": [],
   "cell_type": "code",
   "source": [
    "textq  = i2w[question];\n",
    "println(\"Question: \",join(textq,\" \"))\n",
    "texta  = i2a[answer];\n",
    "println(\"Answer: $(texta)\\nPrediction: $(i2a[prediction]) \")"
   ],
   "metadata": {},
   "execution_count": null
  },
  {
   "outputs": [],
   "cell_type": "markdown",
   "source": [
    "## User Data\n",
    "You can enter your own question about the image and test whether the prediction is correct"
   ],
   "metadata": {}
  },
  {
   "outputs": [],
   "cell_type": "code",
   "source": [
    "userinput = readline(stdin)\n",
    "words = split(userinput) # tokenize(userinput)\n",
    "question = [get!(w2i,wr,1) for wr in words]\n",
    "results,prediction = singlerun(Mrun,feat,question;p=o[:p],selfattn=o[:selfattn],gating=o[:gating]);\n",
    "println(\"Question: $(join(i2w[question],\" \"))\")\n",
    "println(\"Prediction: $(i2a[prediction])\")"
   ],
   "metadata": {},
   "execution_count": null
  },
  {
   "outputs": [],
   "cell_type": "markdown",
   "source": [
    "## Visualize\n",
    "`visualize` function visualizes attention maps for each time step of the mac network"
   ],
   "metadata": {}
  },
  {
   "outputs": [],
   "cell_type": "code",
   "source": [
    "visualize(img,results;p=o[:p])"
   ],
   "metadata": {},
   "execution_count": null
  }
 ],
 "nbformat_minor": 3,
 "metadata": {
  "language_info": {
   "file_extension": ".jl",
   "mimetype": "application/julia",
   "name": "julia",
   "version": "1.0.3"
  },
  "kernelspec": {
   "name": "julia-1.0",
   "display_name": "Julia 1.0.3",
   "language": "julia"
  }
 },
 "nbformat": 4
}
